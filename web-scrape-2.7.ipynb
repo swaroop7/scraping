{
 "cells": [
  {
   "cell_type": "code",
   "execution_count": 52,
   "metadata": {
    "collapsed": true
   },
   "outputs": [],
   "source": [
    "from bs4 import BeautifulSoup\n",
    "\n",
    "import os\n",
    "import urllib2, re\n",
    "\n",
    "os.chdir('/Users/krothaps/Desktop/hackathon/')"
   ]
  },
  {
   "cell_type": "code",
   "execution_count": 53,
   "metadata": {
    "collapsed": true
   },
   "outputs": [],
   "source": [
    "# Extract the college urls \n",
    "\n",
    "output = open('universities-list.csv', 'w')\n",
    "\n",
    "for t in tags:\n",
    "    if t.has_attr('href') and '.edu' in t.attrs['href']:\n",
    "        try:\n",
    "            urllib2.urlopen(t.attrs['href'])\n",
    "            output.write(t.text.encode('utf8').strip().replace(',', ' ') + ',' + t.attrs['href'] + ',' + 'url_exists' + '\\n')\n",
    "        except:\n",
    "            output.write(t.text.encode('utf8').strip().replace(',', ' ') + ',' + t.attrs['href'] + ',' + 'url_problematic'  + '\\n')\n"
   ]
  },
  {
   "cell_type": "code",
   "execution_count": null,
   "metadata": {
    "collapsed": true
   },
   "outputs": [],
   "source": []
  },
  {
   "cell_type": "code",
   "execution_count": null,
   "metadata": {},
   "outputs": [],
   "source": []
  },
  {
   "cell_type": "code",
   "execution_count": 55,
   "metadata": {
    "collapsed": true
   },
   "outputs": [],
   "source": []
  },
  {
   "cell_type": "code",
   "execution_count": null,
   "metadata": {
    "collapsed": true
   },
   "outputs": [],
   "source": []
  },
  {
   "cell_type": "code",
   "execution_count": null,
   "metadata": {
    "collapsed": true
   },
   "outputs": [],
   "source": []
  }
 ],
 "metadata": {
  "kernelspec": {
   "display_name": "Python 2",
   "language": "python",
   "name": "python2"
  },
  "language_info": {
   "codemirror_mode": {
    "name": "ipython",
    "version": 2
   },
   "file_extension": ".py",
   "mimetype": "text/x-python",
   "name": "python",
   "nbconvert_exporter": "python",
   "pygments_lexer": "ipython2",
   "version": "2.7.14"
  }
 },
 "nbformat": 4,
 "nbformat_minor": 2
}
