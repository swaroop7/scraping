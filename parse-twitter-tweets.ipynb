{
 "cells": [
  {
   "cell_type": "code",
   "execution_count": 1,
   "metadata": {
    "collapsed": true
   },
   "outputs": [],
   "source": [
    "import json\n",
    "import os\n",
    "import time\n",
    "import sys\n",
    "\n",
    "os.chdir('/Users/krothaps/Desktop/hackathon/')"
   ]
  },
  {
   "cell_type": "code",
   "execution_count": 2,
   "metadata": {
    "collapsed": true
   },
   "outputs": [],
   "source": [
    "with open('twitter_stream.txt', encoding='utf-8') as f:\n",
    "        content = f.readlines()\n",
    "        \n",
    "f.close()\n",
    "\n",
    "print (len(content))"
   ]
  },
  {
   "cell_type": "code",
   "execution_count": 18,
   "metadata": {},
   "outputs": [
    {
     "name": "stdout",
     "output_type": "stream",
     "text": [
      "1579972\n",
      "789986\n"
     ]
    }
   ],
   "source": [
    "print (len(content))\n",
    "\n",
    "output_file = open('tweets.txt','w')\n",
    "\n",
    "count = 0\n",
    "random_flag = 0\n",
    "for line in content:\n",
    "    try:\n",
    "#         line = line.encode('ascii', 'ignore')\n",
    "#         line = line.encode(\"utf-8\")\n",
    "        a = json.loads(line.encode(\"utf-8\"))\n",
    "        output_file.write(a['text'].replace('\\n', ' ').replace('\\r', ' ').replace('\\t', ' ')+'\\n')\n",
    "    except:\n",
    "        random_flag += 1\n",
    "\n",
    "output_file.close()\n",
    "print (random_flag)\n"
   ]
  },
  {
   "cell_type": "code",
   "execution_count": null,
   "metadata": {
    "collapsed": true
   },
   "outputs": [],
   "source": []
  }
 ],
 "metadata": {
  "kernelspec": {
   "display_name": "Python 3",
   "language": "python",
   "name": "python3"
  },
  "language_info": {
   "codemirror_mode": {
    "name": "ipython",
    "version": 3
   },
   "file_extension": ".py",
   "mimetype": "text/x-python",
   "name": "python",
   "nbconvert_exporter": "python",
   "pygments_lexer": "ipython3",
   "version": "3.6.5"
  }
 },
 "nbformat": 4,
 "nbformat_minor": 2
}
