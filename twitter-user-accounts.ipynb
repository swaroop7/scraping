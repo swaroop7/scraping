{
 "cells": [
  {
   "cell_type": "code",
   "execution_count": 12,
   "metadata": {
    "collapsed": true
   },
   "outputs": [],
   "source": [
    "from tweepy import OAuthHandler\n",
    "from tweepy import API\n",
    "from tweepy import Cursor\n",
    "from datetime import datetime, date, time, timedelta\n",
    "from collections import Counter\n",
    "import sys\n",
    "import os\n",
    "import time\n",
    "\n",
    "os.chdir('/Users/krothaps/Desktop/hackathon/dataset/')"
   ]
  },
  {
   "cell_type": "code",
   "execution_count": 7,
   "metadata": {
    "collapsed": true
   },
   "outputs": [],
   "source": [
    "\n",
    "#Variables that contains the user credentials to access Twitter API \n",
    "access_token = \"\"\n",
    "access_token_secret = \"\"\n",
    "\n",
    "consumer_key = \"\"\n",
    "consumer_secret = \"\"\n",
    " \n",
    "auth = OAuthHandler(consumer_key, consumer_secret)\n",
    "auth.set_access_token(access_token, access_token_secret)\n",
    "auth_api = API(auth)"
   ]
  },
  {
   "cell_type": "code",
   "execution_count": 8,
   "metadata": {},
   "outputs": [
    {
     "name": "stdout",
     "output_type": "stream",
     "text": [
      "['AlabamaFTBL', 'AlabamaMTN', 'AlabamaRow', 'AlabamaTrack', 'ArtsLettersND', 'BootsRiley', 'Caltech', 'CatholicUniv', 'Clear_Creek', 'DePauwU', 'Fresno_State', 'Greg_Byrne', 'ITA_Tennis', 'Illinois_Alma', 'IowaStateU', 'JohnBrownUniv', 'KCCedu', 'KeoughGlobalND', '', 'LifePacific', 'LifeUniversity', 'LoyolaLaw', '', 'MountMercy', 'NDBusiness', 'NDFirstYear', 'NDLaw', 'ND_Arch', 'ND_Grad', 'NDengineering', 'NDscience', 'NSU_Recruiting', 'NorthBayNews', 'RamblersMBB', 'SFEthnicStudies', 'SFFILM', 'SFSUAlumni', 'SSU_1961', 'UAMAdmissions', 'USIedu', 'USTFCCCA', 'USouthFlorida', 'USouthernMaine', 'WarnerRoyal:', 'WarnerU', 'WesleyanCollege', 'aiatlanta', 'auburnu', 'aurorau', 'azusapacific', 'barryuniversity', 'bowdoincollege', 'calarts', 'calstate', 'caltech', 'cau', 'centenaryLA', 'concrete5', 'coppinstateuniv', 'dominguezhills', 'ekustories', 'emoryuniversity', '', 'faithedu', 'followMNU', 'fpu', 'frostburgstate', 'georgetown', 'greenvilleuniv', 'indianastate', 'knoxcollege1837', 'latech', 'loyola_NOLA', 'loyolamaryland', 'loyolamarymount', 'marianuniv', 'mcgillu', 'murraystateuniv', 'northerniowa', 'northwoodu', 'nwciowa', 'pucnow', 'quinnipiacu', 'sacstate', 'sdsu', 'spertus', 'trincollegefl', 'uaccn', '', 'ualr', 'uamshealth', 'ucabears', 'ucla', 'ucmerced', 'umuc', 'universityofky', 'uofa', 'uofl', 'uofsandiego', 'uopx', 'usfca', 'valpou', 'wku', 'wkualumni', 'xula1925', 'AmericanU', 'ArkansasState', 'CTS_Indy', 'Caltech', 'ConnCollege', 'JohnsHopkins', 'LSU_Shreveport', 'LaGrangeCollege', 'LoyolaChicago', 'MacMurray1846', 'MillikinU', 'NotreDame', 'SamuelMerrittU', 'TulaneNews', 'USDToreros', 'WabashCollege', 'aamuedu', 'aiuniv', 'asu', 'bowiestate', 'callutheran', 'caltechalumni', 'colbycollege', 'collegedupage', 'csusbnews', 'cuboulder', 'eckerdcollege', 'eiu', 'fvsu', 'gracelandu', '', 'grinnellcollege', 'hendersonstateu', 'icpresfarley', 'lindseywilson', 'mica', '', 'morningsideedu', 'ndideacenter', 'north_alabama', 'northwesternu', 'novaSE', 'ololcollege', 'pojanowski', 'santript', 'shorteruniv', 'silkroadproject', 'simpsoncollege', 'spelmancollege', 'uapbinfo', 'uofdenver', 'uofsandiego', 'wheatoncollege', 'wku']\n"
     ]
    }
   ],
   "source": [
    "with open('some_random_unique3.txt') as f:\n",
    "    content = f.readlines()\n",
    "\n",
    "user_handles = []\n",
    "\n",
    "for line in content:\n",
    "    user_handles.append(line.split(',')[1].split('/')[-1].strip())\n",
    "\n",
    "print user_handles\n",
    "account_list = user_handles\n",
    "# if (len(sys.argv) > 1):\n",
    "#   account_list = sys.argv[1:]\n",
    "# else:\n",
    "#   print(\"Please provide a list of usernames at the command line.\")\n",
    "#   sys.exit(0)\n"
   ]
  },
  {
   "cell_type": "code",
   "execution_count": 9,
   "metadata": {},
   "outputs": [
    {
     "name": "stdout",
     "output_type": "stream",
     "text": [
      "10\n"
     ]
    }
   ],
   "source": [
    "handles_metadata_file = open('twitter_metadata_file.txt', 'w')\n",
    "random_flag = 1\n",
    "if len(account_list) > 0:\n",
    "  for target in account_list:\n",
    "#     print(\"Getting data for \" + target)\n",
    "    try:\n",
    "        item = auth_api.get_user(target)\n",
    "#     print(\"name: \" + item.name)\n",
    "#     print(\"screen_name: \" + item.screen_name)\n",
    "#     print(\"description: \" + item.description)\n",
    "#     print(\"statuses_count: \" + str(item.statuses_count))\n",
    "#     print(\"friends_count: \" + str(item.friends_count))\n",
    "#     print(\"followers_count: \" + str(item.followers_count))\n",
    "\n",
    "        output_line = item.name.encode('utf-8')+'\\t'+ item.screen_name.encode('utf-8')+'\\t'+ item.description.encode('utf-8')+'\\t'+ str(item.statuses_count)+'\\t'+str(item.friends_count)+'\\t'+str(item.followers_count)+'\\t'+item.location.encode('utf-8')+'\\t'+str(item.created_at)+'\\n'\n",
    "    except:\n",
    "        random_flag += 1\n",
    "    handles_metadata_file.write(output_line)\n",
    "#     break\n",
    "print random_flag    \n",
    "handles_metadata_file.close()"
   ]
  },
  {
   "cell_type": "code",
   "execution_count": 10,
   "metadata": {},
   "outputs": [
    {
     "name": "stdout",
     "output_type": "stream",
     "text": [
      "Account age (in days): 2675\n",
      "Average tweets per day: 3.94\n"
     ]
    }
   ],
   "source": [
    "tweets = item.statuses_count\n",
    "account_created_date = item.created_at\n",
    "delta = datetime.utcnow() - account_created_date\n",
    "account_age_days = delta.days\n",
    "print(\"Account age (in days): \" + str(account_age_days))\n",
    "if account_age_days > 0:\n",
    "    print(\"Average tweets per day: \" + \"%.2f\"%(float(tweets)/float(account_age_days)))\n"
   ]
  },
  {
   "cell_type": "code",
   "execution_count": 43,
   "metadata": {},
   "outputs": [
    {
     "name": "stdout",
     "output_type": "stream",
     "text": [
      "Status(contributors=None, truncated=True, text=u\".@AlabamaFTBL head coach Nick Saban's contract has been extended through the 2025 season. Details here\\u2026 https://t.co/qILMQPnvyp\", is_quote_status=False, in_reply_to_status_id=None, id=1022936355939262464, favorite_count=3927, _api=<tweepy.api.API object at 0x10aa31350>, author=User(follow_request_sent=False, has_extended_profile=False, profile_use_background_image=True, _json={u'follow_request_sent': False, u'has_extended_profile': False, u'profile_use_background_image': True, u'default_profile_image': False, u'id': 350508156, u'profile_background_image_url_https': u'https://abs.twimg.com/images/themes/theme1/bg.png', u'verified': True, u'translator_type': u'none', u'profile_text_color': u'000000', u'profile_image_url_https': u'https://pbs.twimg.com/profile_images/1015374535594561536/-BqOjpQ__normal.jpg', u'profile_sidebar_fill_color': u'DEDEDE', u'entities': {u'url': {u'urls': [{u'url': u'https://t.co/Idh5z7ADTJ', u'indices': [0, 23], u'expanded_url': u'http://www.rolltide.com/', u'display_url': u'rolltide.com'}]}, u'description': {u'urls': []}}, u'followers_count': 835497, u'profile_sidebar_border_color': u'DEDEDE', u'id_str': u'350508156', u'profile_background_color': u'DEDEDE', u'listed_count': 1954, u'is_translation_enabled': False, u'utc_offset': None, u'statuses_count': 10622, u'description': u'The Official Twitter Account of The University of Alabama Football Team', u'friends_count': 128, u'location': u'Tuscaloosa, AL', u'profile_link_color': u'981E32', u'profile_image_url': u'http://pbs.twimg.com/profile_images/1015374535594561536/-BqOjpQ__normal.jpg', u'following': False, u'geo_enabled': True, u'profile_banner_url': u'https://pbs.twimg.com/profile_banners/350508156/1524527349', u'profile_background_image_url': u'http://abs.twimg.com/images/themes/theme1/bg.png', u'screen_name': u'AlabamaFTBL', u'lang': u'en', u'profile_background_tile': False, u'favourites_count': 436, u'name': u'Alabama Football', u'notifications': False, u'url': u'https://t.co/Idh5z7ADTJ', u'created_at': u'Sun Aug 07 22:03:53 +0000 2011', u'contributors_enabled': False, u'time_zone': None, u'protected': False, u'default_profile': False, u'is_translator': False}, time_zone=None, id=350508156, description=u'The Official Twitter Account of The University of Alabama Football Team', _api=<tweepy.api.API object at 0x10aa31350>, verified=True, profile_text_color=u'000000', profile_image_url_https=u'https://pbs.twimg.com/profile_images/1015374535594561536/-BqOjpQ__normal.jpg', profile_sidebar_fill_color=u'DEDEDE', is_translator=False, geo_enabled=True, entities={u'url': {u'urls': [{u'url': u'https://t.co/Idh5z7ADTJ', u'indices': [0, 23], u'expanded_url': u'http://www.rolltide.com/', u'display_url': u'rolltide.com'}]}, u'description': {u'urls': []}}, followers_count=835497, protected=False, id_str=u'350508156', default_profile_image=False, listed_count=1954, lang=u'en', utc_offset=None, statuses_count=10622, profile_background_color=u'DEDEDE', friends_count=128, profile_link_color=u'981E32', profile_image_url=u'http://pbs.twimg.com/profile_images/1015374535594561536/-BqOjpQ__normal.jpg', notifications=False, default_profile=False, profile_background_image_url_https=u'https://abs.twimg.com/images/themes/theme1/bg.png', profile_banner_url=u'https://pbs.twimg.com/profile_banners/350508156/1524527349', profile_background_image_url=u'http://abs.twimg.com/images/themes/theme1/bg.png', name=u'Alabama Football', is_translation_enabled=False, profile_background_tile=False, favourites_count=436, screen_name=u'AlabamaFTBL', url=u'https://t.co/Idh5z7ADTJ', created_at=datetime.datetime(2011, 8, 7, 22, 3, 53), contributors_enabled=False, location=u'Tuscaloosa, AL', profile_sidebar_border_color=u'DEDEDE', translator_type=u'none', following=False), _json={u'contributors': None, u'truncated': True, u'text': u\".@AlabamaFTBL head coach Nick Saban's contract has been extended through the 2025 season. Details here\\u2026 https://t.co/qILMQPnvyp\", u'is_quote_status': False, u'in_reply_to_status_id': None, u'id': 1022936355939262464, u'favorite_count': 3927, u'source': u'<a href=\"http://twitter.com\" rel=\"nofollow\">Twitter Web Client</a>', u'retweeted': False, u'coordinates': None, u'entities': {u'symbols': [], u'user_mentions': [{u'id': 350508156, u'indices': [1, 13], u'id_str': u'350508156', u'screen_name': u'AlabamaFTBL', u'name': u'Alabama Football'}], u'hashtags': [], u'urls': [{u'url': u'https://t.co/qILMQPnvyp', u'indices': [104, 127], u'expanded_url': u'https://twitter.com/i/web/status/1022936355939262464', u'display_url': u'twitter.com/i/web/status/1\\u2026'}]}, u'in_reply_to_screen_name': None, u'in_reply_to_user_id': None, u'retweet_count': 1758, u'id_str': u'1022936355939262464', u'favorited': False, u'user': {u'follow_request_sent': False, u'has_extended_profile': False, u'profile_use_background_image': True, u'default_profile_image': False, u'id': 350508156, u'profile_background_image_url_https': u'https://abs.twimg.com/images/themes/theme1/bg.png', u'verified': True, u'translator_type': u'none', u'profile_text_color': u'000000', u'profile_image_url_https': u'https://pbs.twimg.com/profile_images/1015374535594561536/-BqOjpQ__normal.jpg', u'profile_sidebar_fill_color': u'DEDEDE', u'entities': {u'url': {u'urls': [{u'url': u'https://t.co/Idh5z7ADTJ', u'indices': [0, 23], u'expanded_url': u'http://www.rolltide.com/', u'display_url': u'rolltide.com'}]}, u'description': {u'urls': []}}, u'followers_count': 835497, u'profile_sidebar_border_color': u'DEDEDE', u'id_str': u'350508156', u'profile_background_color': u'DEDEDE', u'listed_count': 1954, u'is_translation_enabled': False, u'utc_offset': None, u'statuses_count': 10622, u'description': u'The Official Twitter Account of The University of Alabama Football Team', u'friends_count': 128, u'location': u'Tuscaloosa, AL', u'profile_link_color': u'981E32', u'profile_image_url': u'http://pbs.twimg.com/profile_images/1015374535594561536/-BqOjpQ__normal.jpg', u'following': False, u'geo_enabled': True, u'profile_banner_url': u'https://pbs.twimg.com/profile_banners/350508156/1524527349', u'profile_background_image_url': u'http://abs.twimg.com/images/themes/theme1/bg.png', u'screen_name': u'AlabamaFTBL', u'lang': u'en', u'profile_background_tile': False, u'favourites_count': 436, u'name': u'Alabama Football', u'notifications': False, u'url': u'https://t.co/Idh5z7ADTJ', u'created_at': u'Sun Aug 07 22:03:53 +0000 2011', u'contributors_enabled': False, u'time_zone': None, u'protected': False, u'default_profile': False, u'is_translator': False}, u'geo': None, u'in_reply_to_user_id_str': None, u'possibly_sensitive': False, u'lang': u'en', u'created_at': u'Fri Jul 27 20:06:47 +0000 2018', u'in_reply_to_status_id_str': None, u'place': None}, coordinates=None, entities={u'symbols': [], u'user_mentions': [{u'id': 350508156, u'indices': [1, 13], u'id_str': u'350508156', u'screen_name': u'AlabamaFTBL', u'name': u'Alabama Football'}], u'hashtags': [], u'urls': [{u'url': u'https://t.co/qILMQPnvyp', u'indices': [104, 127], u'expanded_url': u'https://twitter.com/i/web/status/1022936355939262464', u'display_url': u'twitter.com/i/web/status/1\\u2026'}]}, in_reply_to_screen_name=None, id_str=u'1022936355939262464', retweet_count=1758, in_reply_to_user_id=None, favorited=False, source_url=u'http://twitter.com', user=User(follow_request_sent=False, has_extended_profile=False, profile_use_background_image=True, _json={u'follow_request_sent': False, u'has_extended_profile': False, u'profile_use_background_image': True, u'default_profile_image': False, u'id': 350508156, u'profile_background_image_url_https': u'https://abs.twimg.com/images/themes/theme1/bg.png', u'verified': True, u'translator_type': u'none', u'profile_text_color': u'000000', u'profile_image_url_https': u'https://pbs.twimg.com/profile_images/1015374535594561536/-BqOjpQ__normal.jpg', u'profile_sidebar_fill_color': u'DEDEDE', u'entities': {u'url': {u'urls': [{u'url': u'https://t.co/Idh5z7ADTJ', u'indices': [0, 23], u'expanded_url': u'http://www.rolltide.com/', u'display_url': u'rolltide.com'}]}, u'description': {u'urls': []}}, u'followers_count': 835497, u'profile_sidebar_border_color': u'DEDEDE', u'id_str': u'350508156', u'profile_background_color': u'DEDEDE', u'listed_count': 1954, u'is_translation_enabled': False, u'utc_offset': None, u'statuses_count': 10622, u'description': u'The Official Twitter Account of The University of Alabama Football Team', u'friends_count': 128, u'location': u'Tuscaloosa, AL', u'profile_link_color': u'981E32', u'profile_image_url': u'http://pbs.twimg.com/profile_images/1015374535594561536/-BqOjpQ__normal.jpg', u'following': False, u'geo_enabled': True, u'profile_banner_url': u'https://pbs.twimg.com/profile_banners/350508156/1524527349', u'profile_background_image_url': u'http://abs.twimg.com/images/themes/theme1/bg.png', u'screen_name': u'AlabamaFTBL', u'lang': u'en', u'profile_background_tile': False, u'favourites_count': 436, u'name': u'Alabama Football', u'notifications': False, u'url': u'https://t.co/Idh5z7ADTJ', u'created_at': u'Sun Aug 07 22:03:53 +0000 2011', u'contributors_enabled': False, u'time_zone': None, u'protected': False, u'default_profile': False, u'is_translator': False}, time_zone=None, id=350508156, description=u'The Official Twitter Account of The University of Alabama Football Team', _api=<tweepy.api.API object at 0x10aa31350>, verified=True, profile_text_color=u'000000', profile_image_url_https=u'https://pbs.twimg.com/profile_images/1015374535594561536/-BqOjpQ__normal.jpg', profile_sidebar_fill_color=u'DEDEDE', is_translator=False, geo_enabled=True, entities={u'url': {u'urls': [{u'url': u'https://t.co/Idh5z7ADTJ', u'indices': [0, 23], u'expanded_url': u'http://www.rolltide.com/', u'display_url': u'rolltide.com'}]}, u'description': {u'urls': []}}, followers_count=835497, protected=False, id_str=u'350508156', default_profile_image=False, listed_count=1954, lang=u'en', utc_offset=None, statuses_count=10622, profile_background_color=u'DEDEDE', friends_count=128, profile_link_color=u'981E32', profile_image_url=u'http://pbs.twimg.com/profile_images/1015374535594561536/-BqOjpQ__normal.jpg', notifications=False, default_profile=False, profile_background_image_url_https=u'https://abs.twimg.com/images/themes/theme1/bg.png', profile_banner_url=u'https://pbs.twimg.com/profile_banners/350508156/1524527349', profile_background_image_url=u'http://abs.twimg.com/images/themes/theme1/bg.png', name=u'Alabama Football', is_translation_enabled=False, profile_background_tile=False, favourites_count=436, screen_name=u'AlabamaFTBL', url=u'https://t.co/Idh5z7ADTJ', created_at=datetime.datetime(2011, 8, 7, 22, 3, 53), contributors_enabled=False, location=u'Tuscaloosa, AL', profile_sidebar_border_color=u'DEDEDE', translator_type=u'none', following=False), geo=None, in_reply_to_user_id_str=None, possibly_sensitive=False, lang=u'en', created_at=datetime.datetime(2018, 7, 27, 20, 6, 47), in_reply_to_status_id_str=None, place=None, source=u'Twitter Web Client', retweeted=False)\n"
     ]
    }
   ],
   "source": [
    "hashtags = []\n",
    "mentions = []\n",
    "tweet_count = 0\n",
    "end_date = datetime.utcnow() - timedelta(days=30)\n",
    "for status in Cursor(auth_api.user_timeline, id=target).items():\n",
    "\ttweet_count += 1\n",
    "\tprint status\n",
    "\tbreak\n",
    "\tif hasattr(status, \"entities\"):\n",
    "\t\tentities = status.entities\n",
    "\t\tif \"hashtags\" in entities:\n",
    "\t\t\tfor ent in entities[\"hashtags\"]:\n",
    "\t\t\t\tif ent is not None:\n",
    "\t\t\t\t\tif \"text\" in ent:\n",
    "\t\t\t\t\t\thashtag = ent[\"text\"]\n",
    "\t\t\t\t\t\tif hashtag is not None:\n",
    "\t\t\t\t\t\t\thashtags.append(hashtag)\n",
    "\t\tif \"user_mentions\" in entities:\n",
    "\t\t\tfor ent in entities[\"user_mentions\"]:\n",
    "\t\t\t\tif ent is not None:\n",
    "\t\t\t\t\tif \"screen_name\" in ent:\n",
    "\t\t\t\t\t\tname = ent[\"screen_name\"]\n",
    "\t\t\t\t\t\tif name is not None:\n",
    "\t\t\t\t\t\t\tmentions.append(name)\n",
    "# \t\tif status.created_at < end_date:\n",
    "# \t\t\tbreak"
   ]
  },
  {
   "cell_type": "code",
   "execution_count": 42,
   "metadata": {},
   "outputs": [
    {
     "name": "stdout",
     "output_type": "stream",
     "text": [
      "\n",
      "Most mentioned Twitter users:\n",
      "AlabamaFTBL\t396\n",
      "SEC\t137\n",
      "SECNetwork\t106\n",
      "CFAPeachBowl\t105\n",
      "NFL\t74\n",
      "CFBPlayoff\t61\n",
      "minkfitz_21\t59\n",
      "SEConCBS\t50\n",
      "ESPNCFB\t44\n",
      "CollegeGameDay\t43\n",
      "\n",
      "Most used hashtags:\n",
      "RollTide\t1954\n",
      "OutworkYesterday\t572\n",
      "BuiltByBama\t162\n",
      "CFBPlayoff\t159\n",
      "NationalChampionship\t132\n",
      "CFAPeachBowl\t130\n",
      "SECChamp25\t108\n",
      "Alabama\t81\n",
      "NFLCombine\t55\n",
      "NFLDraft\t52\n",
      "\n",
      "All done. Processed 3216 tweets.\n",
      "\n"
     ]
    }
   ],
   "source": [
    "# print\n",
    "# print(\"Most mentioned Twitter users:\")\n",
    "# for item, count in Counter(mentions).most_common(10):\n",
    "#     print(item + \"\\t\" + str(count))\n",
    " \n",
    "# print\n",
    "# print(\"Most used hashtags:\")\n",
    "# for item, count in Counter(hashtags).most_common(10):\n",
    "#     print(item + \"\\t\" + str(count))\n",
    " \n",
    "# print\n",
    "# print \"All done. Processed \" + str(tweet_count) + \" tweets.\"\n",
    "# print"
   ]
  },
  {
   "cell_type": "code",
   "execution_count": null,
   "metadata": {
    "collapsed": true
   },
   "outputs": [],
   "source": []
  },
  {
   "cell_type": "code",
   "execution_count": 15,
   "metadata": {},
   "outputs": [
    {
     "ename": "NameError",
     "evalue": "name 'tweepy' is not defined",
     "output_type": "error",
     "traceback": [
      "\u001b[0;31m---------------------------------------------------------------------------\u001b[0m",
      "\u001b[0;31mNameError\u001b[0m                                 Traceback (most recent call last)",
      "\u001b[0;32m<ipython-input-15-0d79b2cdf731>\u001b[0m in \u001b[0;36m<module>\u001b[0;34m()\u001b[0m\n\u001b[1;32m      7\u001b[0m             \u001b[0;32mfor\u001b[0m \u001b[0mstatus\u001b[0m \u001b[0;32min\u001b[0m \u001b[0mCursor\u001b[0m\u001b[0;34m(\u001b[0m\u001b[0mauth_api\u001b[0m\u001b[0;34m.\u001b[0m\u001b[0muser_timeline\u001b[0m\u001b[0;34m,\u001b[0m \u001b[0mid\u001b[0m\u001b[0;34m=\u001b[0m\u001b[0mtarget\u001b[0m\u001b[0;34m)\u001b[0m\u001b[0;34m.\u001b[0m\u001b[0mitems\u001b[0m\u001b[0;34m(\u001b[0m\u001b[0;34m)\u001b[0m\u001b[0;34m:\u001b[0m\u001b[0;34m\u001b[0m\u001b[0m\n\u001b[1;32m      8\u001b[0m                 \u001b[0mtweets_metadata_file\u001b[0m\u001b[0;34m.\u001b[0m\u001b[0mwrite\u001b[0m\u001b[0;34m(\u001b[0m\u001b[0mtarget\u001b[0m \u001b[0;34m+\u001b[0m \u001b[0;34m'\\t'\u001b[0m \u001b[0;34m+\u001b[0m \u001b[0mstatus\u001b[0m\u001b[0;34m.\u001b[0m\u001b[0mtext\u001b[0m\u001b[0;34m.\u001b[0m\u001b[0mreplace\u001b[0m\u001b[0;34m(\u001b[0m\u001b[0;34m'\\n'\u001b[0m\u001b[0;34m,\u001b[0m\u001b[0;34m' '\u001b[0m\u001b[0;34m)\u001b[0m\u001b[0;34m.\u001b[0m\u001b[0mreplace\u001b[0m\u001b[0;34m(\u001b[0m\u001b[0;34m'\\t'\u001b[0m\u001b[0;34m,\u001b[0m\u001b[0;34m' '\u001b[0m\u001b[0;34m)\u001b[0m\u001b[0;34m.\u001b[0m\u001b[0mencode\u001b[0m\u001b[0;34m(\u001b[0m\u001b[0;34m'utf-8'\u001b[0m\u001b[0;34m)\u001b[0m \u001b[0;34m+\u001b[0m \u001b[0;34m'\\t'\u001b[0m\u001b[0;34m+\u001b[0m \u001b[0mstr\u001b[0m\u001b[0;34m(\u001b[0m\u001b[0mstatus\u001b[0m\u001b[0;34m.\u001b[0m\u001b[0mcreated_at\u001b[0m\u001b[0;34m)\u001b[0m \u001b[0;34m+\u001b[0m \u001b[0;34m'\\t'\u001b[0m\u001b[0;34m+\u001b[0m \u001b[0mstr\u001b[0m\u001b[0;34m(\u001b[0m\u001b[0mstatus\u001b[0m\u001b[0;34m.\u001b[0m\u001b[0mretweet_count\u001b[0m\u001b[0;34m)\u001b[0m\u001b[0;34m+\u001b[0m \u001b[0;34m'\\t'\u001b[0m\u001b[0;34m+\u001b[0m\u001b[0mstr\u001b[0m\u001b[0;34m(\u001b[0m\u001b[0mstatus\u001b[0m\u001b[0;34m.\u001b[0m\u001b[0mfavorite_count\u001b[0m\u001b[0;34m)\u001b[0m \u001b[0;34m+\u001b[0m \u001b[0;34m'\\t'\u001b[0m\u001b[0;34m+\u001b[0m \u001b[0mstr\u001b[0m\u001b[0;34m(\u001b[0m\u001b[0mstatus\u001b[0m\u001b[0;34m.\u001b[0m\u001b[0min_reply_to_user_id\u001b[0m\u001b[0;34m)\u001b[0m\u001b[0;34m+\u001b[0m \u001b[0;34m'\\n'\u001b[0m\u001b[0;34m)\u001b[0m\u001b[0;34m\u001b[0m\u001b[0m\n\u001b[0;32m----> 9\u001b[0;31m         \u001b[0;32mexcept\u001b[0m \u001b[0mtweepy\u001b[0m\u001b[0;34m.\u001b[0m\u001b[0mTweepError\u001b[0m\u001b[0;34m:\u001b[0m\u001b[0;34m\u001b[0m\u001b[0m\n\u001b[0m\u001b[1;32m     10\u001b[0m             \u001b[0mtime\u001b[0m\u001b[0;34m.\u001b[0m\u001b[0msleep\u001b[0m\u001b[0;34m(\u001b[0m\u001b[0;36m60\u001b[0m \u001b[0;34m*\u001b[0m \u001b[0;36m15\u001b[0m\u001b[0;34m)\u001b[0m\u001b[0;34m\u001b[0m\u001b[0m\n\u001b[1;32m     11\u001b[0m             \u001b[0;32mcontinue\u001b[0m\u001b[0;34m\u001b[0m\u001b[0m\n",
      "\u001b[0;31mNameError\u001b[0m: name 'tweepy' is not defined"
     ]
    }
   ],
   "source": [
    "tweets_metadata_file = open('tweets_user_handle.txt', 'w')\n",
    "random_flag = 1\n",
    "\n",
    "for target in account_list:\n",
    "    while True:\n",
    "        try:\n",
    "            for status in Cursor(auth_api.user_timeline, id=target).items():\n",
    "                tweets_metadata_file.write(target + '\\t' + status.text.replace('\\n',' ').replace('\\t',' ').encode('utf-8') + '\\t'+ str(status.created_at) + '\\t'+ str(status.retweet_count)+ '\\t'+str(status.favorite_count) + '\\t'+ str(status.in_reply_to_user_id)+ '\\n')\n",
    "        except tweepy.TweepError:\n",
    "            time.sleep(60 * 15)\n",
    "            continue\n",
    "        except StopIteration:\n",
    "            pass\n",
    "        break\n",
    "    \n",
    "        \n",
    "print random_flag\n",
    "tweets_metadata_file.close()"
   ]
  },
  {
   "cell_type": "code",
   "execution_count": null,
   "metadata": {
    "collapsed": true
   },
   "outputs": [],
   "source": []
  }
 ],
 "metadata": {
  "kernelspec": {
   "display_name": "Python 2",
   "language": "python",
   "name": "python2"
  },
  "language_info": {
   "codemirror_mode": {
    "name": "ipython",
    "version": 2
   },
   "file_extension": ".py",
   "mimetype": "text/x-python",
   "name": "python",
   "nbconvert_exporter": "python",
   "pygments_lexer": "ipython2",
   "version": "2.7.14"
  }
 },
 "nbformat": 4,
 "nbformat_minor": 2
}
