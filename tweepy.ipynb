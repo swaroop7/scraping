{
 "cells": [
  {
   "cell_type": "code",
   "execution_count": 8,
   "metadata": {
    "collapsed": true
   },
   "outputs": [],
   "source": [
    "#!/usr/bin/python\n",
    "import oauth2 as oauth\n",
    "import urllib3 as urllib\n",
    "import tweepy\n",
    "import os\n",
    "import re\n",
    "import io\n",
    "import csv\n",
    "from tweepy import OAuthHandler\n",
    "\n",
    "os.chdir('/Users/krothaps/Desktop/hackathon/')"
   ]
  },
  {
   "cell_type": "code",
   "execution_count": 5,
   "metadata": {},
   "outputs": [
    {
     "name": "stdout",
     "output_type": "stream",
     "text": [
      "ఆంధ్రప్రదేశ్‌లో ప్రతి మహిళ స్వశక్తితో ఎదగాలి.. ఆర్థికంగా కుటుంబానికి ఆదరువు కావాలన్న లక్ష్యంతో.. వారికి ఉచిత ఉపాధి… https://t.co/xk1k3nUciJ\n",
      "RT @jsaideepak: It was an absolute privilege to watch Shri K. Parasaran in action. The energy, d commitment, d depth, d humour, d wit, d co…\n",
      "RT @SteveStuWill: If great scientists had logos… https://t.co/0dYpjDl6tJ\n",
      "RT @IYRKRao: https://t.co/BbvUky19v9\n",
      "I have filed an Implead petition in the #HighCourt in the on going #ttd case regarding modification of…\n",
      "RT @Bindaas_Chokri: Update: Hello! Thank you to everyone who contributed: https://t.co/f3Ne3bKFLq. Today was his first day in college (http…\n",
      "RT @waxpancake: To be fair, they mention it in the listing. https://t.co/3qcMWWc8is\n",
      "😊❤️ @JavedBashir544 #ORangrez https://t.co/F0CbvbWJK2\n",
      "RT @theskindoctor13: Derek O'Brien: Ye note to fata hua hai.\n",
      "Sabziwala: Babuji kal apne hi diya tha jab tamatar liye the.\n",
      "\n",
      "DOB: Zaban ladat…\n",
      "heh, relevant advice... def sample bias but i see all my girl friends invest a ton in their own emotional growth af… https://t.co/fGs9UVmNwH\n",
      "ಕಸಾಯಿಖಾನೆಗೆ ಗೋವುಗಳ ಸಾಗಣೆ: ಬಜರಂಗದಳದ ಕಾರ್ಯಕರ್ತ ಸೇರಿ ಇಬ್ಬರ ಬಂಧನ \n",
      "\n",
      "https://t.co/6R4H7mSJza\n",
      "RT @prajavani: ಭಾರತವನ್ನು ಕಾಂಗ್ರೆಸ್‌ ಮುಕ್ತಗೊಳಿಸಲು ಬಿಜೆಪಿ ಶತಾಯಗತಾಯ ಪ್ರಯತ್ನಿಸುತ್ತಿದೆ. ದೇಶದ 29 ರಾಜ್ಯಗಳ ಪೈಕಿ 18ರಲ್ಲಿ ಅಧಿಕಾರಕ್ಕೇರಿರುವ ಬಿಜೆಪಿ ಪಾಲಿ…\n",
      "RT @prajavani: ಮಂಗಳೂರಿನಿಂದ ಬಾನಂಗಳವನ್ನು ಮಧ್ಯರಾತ್ರಿ ನೋಡಿದಾಗ ಕಂಡ ಚಂದ್ರ ಗ್ರಹಣದ ನೋಟಗಳು –ಪ್ರಜಾವಾಣಿ ಚಿತ್ರ: #ಗೋವಿಂದರಾಜ_ಜವಳಿ\n",
      "#Lunar_eclipse #Mangalu…\n",
      "RT @beingbernz: Me dating at 21:\n",
      "So what do you like to do for fun?\n",
      "\n",
      "Me dating at 27:\n",
      "How aware are you of your past traumas and how active…\n",
      "RT @semubhatt: This @derekobrienmp blocked me years back, though I have never abused him. I am sure he has blocked many others who Q him/hi…\n",
      "LOL let them https://t.co/SBXBPFlKMI\n",
      "RT @ENBrown: how do I shadow ban anyone who's tweeting about shadow banning\n",
      "RT @sunil_abraham: Every encounter with Anand Venkatanarayanan is a master class! #mustwatch https://t.co/NtCV588LL6\n",
      ".@NYCTSubway is officially approaching @sfmta_muni levels of bad, ie, a good option when walking isn’t slow enough.… https://t.co/fO1nYgAIOT\n",
      "RT @b0rk: grep https://t.co/rYNEJRjFUv\n"
     ]
    }
   ],
   "source": [
    "# See Assignment 1 instructions or README for how to get these credentials\n",
    "access_token = \"\"\n",
    "access_token_secret = \"\"\n",
    "\n",
    "consumer_key = \"\"\n",
    "consumer_secret = \"\"\n",
    "\n",
    "auth = tweepy.OAuthHandler(consumer_key, consumer_secret)\n",
    "auth.set_access_token(access_token, access_token_secret)\n",
    "\n",
    "api = tweepy.API(auth)\n",
    "\n",
    "public_tweets = api.home_timeline()\n",
    "for tweet in public_tweets:\n",
    "    print tweet.text"
   ]
  },
  {
   "cell_type": "code",
   "execution_count": 9,
   "metadata": {},
   "outputs": [
    {
     "name": "stdout",
     "output_type": "stream",
     "text": [
      "300\n"
     ]
    }
   ],
   "source": [
    "#TextBlob perform simple natural language processing tasks.\n",
    "#from textblob import TextBlob\n",
    "\n",
    "access_token = \"\"\n",
    "access_token_secret = \"\"\n",
    "\n",
    "consumer_key = \"\"\n",
    "consumer_secret = \"\"\n",
    "\n",
    "\n",
    "# create OAuthHandler object\n",
    "auth = tweepy.OAuthHandler(consumer_key, consumer_secret)\n",
    "# set access token and secret\n",
    "auth.set_access_token(access_token, access_token_secret)\n",
    "# create tweepy API object to fetch tweets\n",
    "api = tweepy.API(auth)\n",
    "\n",
    "\n",
    "def get_tweets(query, count = 300):\n",
    "\n",
    "    # empty list to store parsed tweets\n",
    "    tweets = []\n",
    "    target = io.open(\"mytweets.txt\", 'w', encoding='utf-8')\n",
    "    # call twitter api to fetch tweets\n",
    "    q=str(query)\n",
    "    a=str(q+\" sarcasm\")\n",
    "    b=str(q+\" sarcastic\")\n",
    "    c=str(q+\" irony\")\n",
    "    fetched_tweets = api.search(a, count = count)+ api.search(b, count = count)+ api.search(c, count = count)\n",
    "    # parsing tweets one by one\n",
    "    print(len(fetched_tweets))\n",
    "\n",
    "    for tweet in fetched_tweets:\n",
    "\n",
    "        # empty dictionary to store required params of a tweet\n",
    "        parsed_tweet = {}\n",
    "        # saving text of tweet\n",
    "        parsed_tweet['text'] = tweet.text\n",
    "        if \"http\" not in tweet.text:\n",
    "            line = re.sub(\"[^A-Za-z]\", \" \", tweet.text)\n",
    "            target.write(line+\"\\n\")\n",
    "    return tweets\n",
    "\n",
    "    # creating object of TwitterClient Class\n",
    "    # calling function to get tweets\n",
    "tweets = get_tweets(query =\"\", count = 20000)"
   ]
  },
  {
   "cell_type": "code",
   "execution_count": 10,
   "metadata": {},
   "outputs": [
    {
     "name": "stdout",
     "output_type": "stream",
     "text": [
      "[]\n"
     ]
    }
   ],
   "source": [
    "def get_tweets(username):\n",
    "         \n",
    "        # Authorization to consumer key and consumer secret\n",
    "        auth = tweepy.OAuthHandler(consumer_key, consumer_secret)\n",
    " \n",
    "        # Access to user's access key and access secret\n",
    "        auth.set_access_token(access_key, access_secret)\n",
    " \n",
    "        # Calling api\n",
    "        api = tweepy.API(auth)\n",
    " \n",
    "        # 200 tweets to be extracted\n",
    "        number_of_tweets=200\n",
    "        tweets = api.user_timeline(screen_name=username)\n",
    " \n",
    "        # Empty Array\n",
    "        tmp=[] \n",
    " \n",
    "        # create array of tweet information: username, \n",
    "        # tweet id, date/time, text\n",
    "        tweets_for_csv = [tweet.text for tweet in tweets] # CSV file created \n",
    "        for j in tweets_for_csv:\n",
    " \n",
    "            # Appending tweets to the empty array tmp\n",
    "            tmp.append(j) \n",
    " \n",
    "        # Printing the tweets\n",
    "        print(tmp)\n",
    " \n",
    " \n",
    "# Driver code\n",
    "if __name__ == '__main__':\n",
    " \n",
    "    # Here goes the twitter handle for the user\n",
    "    # whose tweets are to be extracted.\n",
    "    get_tweets(\"twitter-handle\") "
   ]
  },
  {
   "cell_type": "code",
   "execution_count": null,
   "metadata": {
    "collapsed": true
   },
   "outputs": [],
   "source": []
  }
 ],
 "metadata": {
  "kernelspec": {
   "display_name": "Python 2",
   "language": "python",
   "name": "python2"
  },
  "language_info": {
   "codemirror_mode": {
    "name": "ipython",
    "version": 2
   },
   "file_extension": ".py",
   "mimetype": "text/x-python",
   "name": "python",
   "nbconvert_exporter": "python",
   "pygments_lexer": "ipython2",
   "version": "2.7.14"
  }
 },
 "nbformat": 4,
 "nbformat_minor": 2
}
